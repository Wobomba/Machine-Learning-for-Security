{
 "cells": [
  {
   "cell_type": "markdown",
   "id": "7c06bd70",
   "metadata": {},
   "source": [
    "# Trees "
   ]
  },
  {
   "cell_type": "code",
   "execution_count": 1,
   "id": "50698533",
   "metadata": {},
   "outputs": [],
   "source": [
    "#Binary search tree. \n",
    "#The left node value is always less than the value at the parent node\n",
    "#The right node value is always greater than the value at the parent node\n",
    "class Node:\n",
    "    def __init__(self, data):\n",
    "        self.right = None\n",
    "        self.left = None\n",
    "        self.data = data\n",
    "        \n",
    "    def insert(self, data):\n",
    "        if self.data:\n",
    "            if data < self.data:\n",
    "                if self.left is None:\n",
    "                    self.left = Node(data)\n",
    "                else:\n",
    "                    self.left.insert(data)\n",
    "            elif data > self.data:\n",
    "                if self.right is None:\n",
    "                    self.right = Node(data)\n",
    "                else:\n",
    "                    self.right.insert(data)    \n",
    "        else:\n",
    "            self.data = data\n",
    "        \n",
    "#traversing through the left subtree then right subtree\n",
    "    def Inorder(self):\n",
    "        if self.left:\n",
    "            self.left.Inorder()\n",
    "        print(self.data)\n",
    "        if self.right:\n",
    "            self.right.Inorder()\n",
    "    \n",
    "    def Preorder(self):\n",
    "        print(self.data)\n",
    "        if self.left:\n",
    "            self.left.Preorder()\n",
    "        if self.right:\n",
    "            self.right.Preorder()\n",
    "            \n",
    "    def Postorder(self):\n",
    "        if self.left:\n",
    "            self.left.Postorder()\n",
    "        if self.right:\n",
    "            self.right.Postorder()\n",
    "        print(self.data)\n"
   ]
  },
  {
   "cell_type": "code",
   "execution_count": 3,
   "id": "960f2d03",
   "metadata": {},
   "outputs": [],
   "source": [
    "root = Node(27)\n",
    "root.insert(14)\n",
    "root.insert(35)\n",
    "root.insert(31)\n",
    "root.insert(10)\n",
    "root.insert(19)"
   ]
  },
  {
   "cell_type": "code",
   "execution_count": 4,
   "id": "8e29423b",
   "metadata": {},
   "outputs": [
    {
     "name": "stdout",
     "output_type": "stream",
     "text": [
      "10\n",
      "14\n",
      "19\n",
      "27\n",
      "31\n",
      "35\n"
     ]
    }
   ],
   "source": [
    "root.Inorder()"
   ]
  },
  {
   "cell_type": "code",
   "execution_count": 5,
   "id": "608864b2",
   "metadata": {},
   "outputs": [
    {
     "name": "stdout",
     "output_type": "stream",
     "text": [
      "27\n",
      "14\n",
      "10\n",
      "19\n",
      "35\n",
      "31\n"
     ]
    }
   ],
   "source": [
    "root.Preorder()"
   ]
  },
  {
   "cell_type": "code",
   "execution_count": 6,
   "id": "5e1312ed",
   "metadata": {},
   "outputs": [
    {
     "name": "stdout",
     "output_type": "stream",
     "text": [
      "10\n",
      "19\n",
      "14\n",
      "31\n",
      "35\n",
      "27\n"
     ]
    }
   ],
   "source": [
    "root.Postorder()"
   ]
  },
  {
   "cell_type": "code",
   "execution_count": null,
   "id": "815d1b6b",
   "metadata": {},
   "outputs": [],
   "source": []
  }
 ],
 "metadata": {
  "kernelspec": {
   "display_name": "Python 3",
   "language": "python",
   "name": "python3"
  },
  "language_info": {
   "codemirror_mode": {
    "name": "ipython",
    "version": 3
   },
   "file_extension": ".py",
   "mimetype": "text/x-python",
   "name": "python",
   "nbconvert_exporter": "python",
   "pygments_lexer": "ipython3",
   "version": "3.11.1"
  }
 },
 "nbformat": 4,
 "nbformat_minor": 5
}
